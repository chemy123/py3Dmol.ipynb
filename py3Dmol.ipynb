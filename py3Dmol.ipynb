{
  "nbformat": 4,
  "nbformat_minor": 0,
  "metadata": {
    "colab": {
      "provenance": []
    },
    "kernelspec": {
      "name": "python3",
      "display_name": "Python 3"
    },
    "language_info": {
      "name": "python"
    }
  },
  "cells": [
    {
      "cell_type": "markdown",
      "source": [
        "Py3Dmol is a convenient tool for interactive visualization of molecular structures in Python"
      ],
      "metadata": {
        "id": "tRXzORip_lSw"
      }
    },
    {
      "cell_type": "code",
      "execution_count": 2,
      "metadata": {
        "id": "8CqN2irHlrLf",
        "colab": {
          "base_uri": "https://localhost:8080/"
        },
        "outputId": "3dba3e2b-45ec-40d5-8759-a882c5dcb31e"
      },
      "outputs": [
        {
          "output_type": "stream",
          "name": "stdout",
          "text": [
            "Collecting py3Dmol\n",
            "  Downloading py3Dmol-2.4.2-py2.py3-none-any.whl.metadata (1.9 kB)\n",
            "Downloading py3Dmol-2.4.2-py2.py3-none-any.whl (7.0 kB)\n",
            "Installing collected packages: py3Dmol\n",
            "Successfully installed py3Dmol-2.4.2\n"
          ]
        }
      ],
      "source": [
        "#Install the packages\n"
        "!pip install py3Dmol"
      ]
    },
    {
      "cell_type": "code",
      "source": [
        "import py3Dmol\n",
        "view = py3Dmol.view(query='pdb:4rhb')\n",
        "view.setStyle({'cartoon':{'color':'spectrum'}})\n",
        "view"
      ],
      "metadata": {
        "id": "X0Jm3AtomXTT",
        "colab": {
          "base_uri": "https://localhost:8080/",
          "height": 514
        },
        "outputId": "8b467119-786f-4123-90fa-23a827471796"
      },
      "execution_count": 3,
      "outputs": [
        {
          "output_type": "display_data",
          "data": {
            "application/3dmoljs_load.v0": "<div id=\"3dmolviewer_17376452863968332\"  style=\"position: relative; width: 640px; height: 480px;\">\n        <p id=\"3dmolwarning_17376452863968332\" style=\"background-color:#ffcccc;color:black\">3Dmol.js failed to load for some reason.  Please check your browser console for error messages.<br></p>\n        </div>\n<script>\n\nvar loadScriptAsync = function(uri){\n  return new Promise((resolve, reject) => {\n    //this is to ignore the existence of requirejs amd\n    var savedexports, savedmodule;\n    if (typeof exports !== 'undefined') savedexports = exports;\n    else exports = {}\n    if (typeof module !== 'undefined') savedmodule = module;\n    else module = {}\n\n    var tag = document.createElement('script');\n    tag.src = uri;\n    tag.async = true;\n    tag.onload = () => {\n        exports = savedexports;\n        module = savedmodule;\n        resolve();\n    };\n  var firstScriptTag = document.getElementsByTagName('script')[0];\n  firstScriptTag.parentNode.insertBefore(tag, firstScriptTag);\n});\n};\n\nif(typeof $3Dmolpromise === 'undefined') {\n$3Dmolpromise = null;\n  $3Dmolpromise = loadScriptAsync('https://cdnjs.cloudflare.com/ajax/libs/3Dmol/2.4.2/3Dmol-min.js');\n}\n\nvar viewer_17376452863968332 = null;\nvar warn = document.getElementById(\"3dmolwarning_17376452863968332\");\nif(warn) {\n    warn.parentNode.removeChild(warn);\n}\n$3Dmolpromise.then(function() {\nviewer_17376452863968332 = $3Dmol.createViewer(document.getElementById(\"3dmolviewer_17376452863968332\"),{backgroundColor:\"white\"});\n$3Dmol.download(\"pdb:4rhb\", viewer_17376452863968332, {}, function() {\nviewer_17376452863968332.zoomTo();\n\tviewer_17376452863968332.setStyle({\"cartoon\": {\"color\": \"spectrum\"}});\nviewer_17376452863968332.render();\n})\n});\n</script>",
            "text/html": [
              "<div id=\"3dmolviewer_17376452863968332\"  style=\"position: relative; width: 640px; height: 480px;\">\n",
              "        <p id=\"3dmolwarning_17376452863968332\" style=\"background-color:#ffcccc;color:black\">3Dmol.js failed to load for some reason.  Please check your browser console for error messages.<br></p>\n",
              "        </div>\n",
              "<script>\n",
              "\n",
              "var loadScriptAsync = function(uri){\n",
              "  return new Promise((resolve, reject) => {\n",
              "    //this is to ignore the existence of requirejs amd\n",
              "    var savedexports, savedmodule;\n",
              "    if (typeof exports !== 'undefined') savedexports = exports;\n",
              "    else exports = {}\n",
              "    if (typeof module !== 'undefined') savedmodule = module;\n",
              "    else module = {}\n",
              "\n",
              "    var tag = document.createElement('script');\n",
              "    tag.src = uri;\n",
              "    tag.async = true;\n",
              "    tag.onload = () => {\n",
              "        exports = savedexports;\n",
              "        module = savedmodule;\n",
              "        resolve();\n",
              "    };\n",
              "  var firstScriptTag = document.getElementsByTagName('script')[0];\n",
              "  firstScriptTag.parentNode.insertBefore(tag, firstScriptTag);\n",
              "});\n",
              "};\n",
              "\n",
              "if(typeof $3Dmolpromise === 'undefined') {\n",
              "$3Dmolpromise = null;\n",
              "  $3Dmolpromise = loadScriptAsync('https://cdnjs.cloudflare.com/ajax/libs/3Dmol/2.4.2/3Dmol-min.js');\n",
              "}\n",
              "\n",
              "var viewer_17376452863968332 = null;\n",
              "var warn = document.getElementById(\"3dmolwarning_17376452863968332\");\n",
              "if(warn) {\n",
              "    warn.parentNode.removeChild(warn);\n",
              "}\n",
              "$3Dmolpromise.then(function() {\n",
              "viewer_17376452863968332 = $3Dmol.createViewer(document.getElementById(\"3dmolviewer_17376452863968332\"),{backgroundColor:\"white\"});\n",
              "$3Dmol.download(\"pdb:4rhb\", viewer_17376452863968332, {}, function() {\n",
              "viewer_17376452863968332.zoomTo();\n",
              "\tviewer_17376452863968332.setStyle({\"cartoon\": {\"color\": \"spectrum\"}});\n",
              "viewer_17376452863968332.render();\n",
              "})\n",
              "});\n",
              "</script>"
            ]
          },
          "metadata": {}
        },
        {
          "output_type": "execute_result",
          "data": {
            "text/plain": [
              "<py3Dmol.view at 0x7e17b338d610>"
            ]
          },
          "metadata": {},
          "execution_count": 3
        }
      ]
    },
    {
      "cell_type": "code",
      "source": [
        "import py3Dmol\n",
        "view = py3Dmol.view(query='pdb:4rhb')\n",
        "view.setStyle({'sphere':{'color':'spectrum'}})\n",
        "view"
      ],
      "metadata": {
        "id": "HDf_s2X0mYHr",
        "colab": {
          "base_uri": "https://localhost:8080/",
          "height": 514
        },
        "outputId": "7b020b5c-32cc-473c-ee22-3da44a4b9cb7"
      },
      "execution_count": 4,
      "outputs": [
        {
          "output_type": "display_data",
          "data": {
            "application/3dmoljs_load.v0": "<div id=\"3dmolviewer_17376452924737277\"  style=\"position: relative; width: 640px; height: 480px;\">\n        <p id=\"3dmolwarning_17376452924737277\" style=\"background-color:#ffcccc;color:black\">3Dmol.js failed to load for some reason.  Please check your browser console for error messages.<br></p>\n        </div>\n<script>\n\nvar loadScriptAsync = function(uri){\n  return new Promise((resolve, reject) => {\n    //this is to ignore the existence of requirejs amd\n    var savedexports, savedmodule;\n    if (typeof exports !== 'undefined') savedexports = exports;\n    else exports = {}\n    if (typeof module !== 'undefined') savedmodule = module;\n    else module = {}\n\n    var tag = document.createElement('script');\n    tag.src = uri;\n    tag.async = true;\n    tag.onload = () => {\n        exports = savedexports;\n        module = savedmodule;\n        resolve();\n    };\n  var firstScriptTag = document.getElementsByTagName('script')[0];\n  firstScriptTag.parentNode.insertBefore(tag, firstScriptTag);\n});\n};\n\nif(typeof $3Dmolpromise === 'undefined') {\n$3Dmolpromise = null;\n  $3Dmolpromise = loadScriptAsync('https://cdnjs.cloudflare.com/ajax/libs/3Dmol/2.4.2/3Dmol-min.js');\n}\n\nvar viewer_17376452924737277 = null;\nvar warn = document.getElementById(\"3dmolwarning_17376452924737277\");\nif(warn) {\n    warn.parentNode.removeChild(warn);\n}\n$3Dmolpromise.then(function() {\nviewer_17376452924737277 = $3Dmol.createViewer(document.getElementById(\"3dmolviewer_17376452924737277\"),{backgroundColor:\"white\"});\n$3Dmol.download(\"pdb:4rhb\", viewer_17376452924737277, {}, function() {\nviewer_17376452924737277.zoomTo();\n\tviewer_17376452924737277.setStyle({\"sphere\": {\"color\": \"spectrum\"}});\nviewer_17376452924737277.render();\n})\n});\n</script>",
            "text/html": [
              "<div id=\"3dmolviewer_17376452924737277\"  style=\"position: relative; width: 640px; height: 480px;\">\n",
              "        <p id=\"3dmolwarning_17376452924737277\" style=\"background-color:#ffcccc;color:black\">3Dmol.js failed to load for some reason.  Please check your browser console for error messages.<br></p>\n",
              "        </div>\n",
              "<script>\n",
              "\n",
              "var loadScriptAsync = function(uri){\n",
              "  return new Promise((resolve, reject) => {\n",
              "    //this is to ignore the existence of requirejs amd\n",
              "    var savedexports, savedmodule;\n",
              "    if (typeof exports !== 'undefined') savedexports = exports;\n",
              "    else exports = {}\n",
              "    if (typeof module !== 'undefined') savedmodule = module;\n",
              "    else module = {}\n",
              "\n",
              "    var tag = document.createElement('script');\n",
              "    tag.src = uri;\n",
              "    tag.async = true;\n",
              "    tag.onload = () => {\n",
              "        exports = savedexports;\n",
              "        module = savedmodule;\n",
              "        resolve();\n",
              "    };\n",
              "  var firstScriptTag = document.getElementsByTagName('script')[0];\n",
              "  firstScriptTag.parentNode.insertBefore(tag, firstScriptTag);\n",
              "});\n",
              "};\n",
              "\n",
              "if(typeof $3Dmolpromise === 'undefined') {\n",
              "$3Dmolpromise = null;\n",
              "  $3Dmolpromise = loadScriptAsync('https://cdnjs.cloudflare.com/ajax/libs/3Dmol/2.4.2/3Dmol-min.js');\n",
              "}\n",
              "\n",
              "var viewer_17376452924737277 = null;\n",
              "var warn = document.getElementById(\"3dmolwarning_17376452924737277\");\n",
              "if(warn) {\n",
              "    warn.parentNode.removeChild(warn);\n",
              "}\n",
              "$3Dmolpromise.then(function() {\n",
              "viewer_17376452924737277 = $3Dmol.createViewer(document.getElementById(\"3dmolviewer_17376452924737277\"),{backgroundColor:\"white\"});\n",
              "$3Dmol.download(\"pdb:4rhb\", viewer_17376452924737277, {}, function() {\n",
              "viewer_17376452924737277.zoomTo();\n",
              "\tviewer_17376452924737277.setStyle({\"sphere\": {\"color\": \"spectrum\"}});\n",
              "viewer_17376452924737277.render();\n",
              "})\n",
              "});\n",
              "</script>"
            ]
          },
          "metadata": {}
        },
        {
          "output_type": "execute_result",
          "data": {
            "text/plain": [
              "<py3Dmol.view at 0x7e17cd1054d0>"
            ]
          },
          "metadata": {},
          "execution_count": 4
        }
      ]
    },
    {
      "cell_type": "code",
      "source": [
        "import py3Dmol\n",
        "view = py3Dmol.view(query='pdb:4rhb')\n",
        "view.setStyle({'line':{'color':'greenCarbon'}})\n",
        "view"
      ],
      "metadata": {
        "colab": {
          "base_uri": "https://localhost:8080/",
          "height": 514
        },
        "id": "g3i3OCsJno6w",
        "outputId": "3a747405-8a89-4663-c478-e81adc94f090"
      },
      "execution_count": 5,
      "outputs": [
        {
          "output_type": "display_data",
          "data": {
            "application/3dmoljs_load.v0": "<div id=\"3dmolviewer_17376453089836738\"  style=\"position: relative; width: 640px; height: 480px;\">\n        <p id=\"3dmolwarning_17376453089836738\" style=\"background-color:#ffcccc;color:black\">3Dmol.js failed to load for some reason.  Please check your browser console for error messages.<br></p>\n        </div>\n<script>\n\nvar loadScriptAsync = function(uri){\n  return new Promise((resolve, reject) => {\n    //this is to ignore the existence of requirejs amd\n    var savedexports, savedmodule;\n    if (typeof exports !== 'undefined') savedexports = exports;\n    else exports = {}\n    if (typeof module !== 'undefined') savedmodule = module;\n    else module = {}\n\n    var tag = document.createElement('script');\n    tag.src = uri;\n    tag.async = true;\n    tag.onload = () => {\n        exports = savedexports;\n        module = savedmodule;\n        resolve();\n    };\n  var firstScriptTag = document.getElementsByTagName('script')[0];\n  firstScriptTag.parentNode.insertBefore(tag, firstScriptTag);\n});\n};\n\nif(typeof $3Dmolpromise === 'undefined') {\n$3Dmolpromise = null;\n  $3Dmolpromise = loadScriptAsync('https://cdnjs.cloudflare.com/ajax/libs/3Dmol/2.4.2/3Dmol-min.js');\n}\n\nvar viewer_17376453089836738 = null;\nvar warn = document.getElementById(\"3dmolwarning_17376453089836738\");\nif(warn) {\n    warn.parentNode.removeChild(warn);\n}\n$3Dmolpromise.then(function() {\nviewer_17376453089836738 = $3Dmol.createViewer(document.getElementById(\"3dmolviewer_17376453089836738\"),{backgroundColor:\"white\"});\n$3Dmol.download(\"pdb:4rhb\", viewer_17376453089836738, {}, function() {\nviewer_17376453089836738.zoomTo();\n\tviewer_17376453089836738.setStyle({\"line\": {\"color\": \"greenCarbon\"}});\nviewer_17376453089836738.render();\n})\n});\n</script>",
            "text/html": [
              "<div id=\"3dmolviewer_17376453089836738\"  style=\"position: relative; width: 640px; height: 480px;\">\n",
              "        <p id=\"3dmolwarning_17376453089836738\" style=\"background-color:#ffcccc;color:black\">3Dmol.js failed to load for some reason.  Please check your browser console for error messages.<br></p>\n",
              "        </div>\n",
              "<script>\n",
              "\n",
              "var loadScriptAsync = function(uri){\n",
              "  return new Promise((resolve, reject) => {\n",
              "    //this is to ignore the existence of requirejs amd\n",
              "    var savedexports, savedmodule;\n",
              "    if (typeof exports !== 'undefined') savedexports = exports;\n",
              "    else exports = {}\n",
              "    if (typeof module !== 'undefined') savedmodule = module;\n",
              "    else module = {}\n",
              "\n",
              "    var tag = document.createElement('script');\n",
              "    tag.src = uri;\n",
              "    tag.async = true;\n",
              "    tag.onload = () => {\n",
              "        exports = savedexports;\n",
              "        module = savedmodule;\n",
              "        resolve();\n",
              "    };\n",
              "  var firstScriptTag = document.getElementsByTagName('script')[0];\n",
              "  firstScriptTag.parentNode.insertBefore(tag, firstScriptTag);\n",
              "});\n",
              "};\n",
              "\n",
              "if(typeof $3Dmolpromise === 'undefined') {\n",
              "$3Dmolpromise = null;\n",
              "  $3Dmolpromise = loadScriptAsync('https://cdnjs.cloudflare.com/ajax/libs/3Dmol/2.4.2/3Dmol-min.js');\n",
              "}\n",
              "\n",
              "var viewer_17376453089836738 = null;\n",
              "var warn = document.getElementById(\"3dmolwarning_17376453089836738\");\n",
              "if(warn) {\n",
              "    warn.parentNode.removeChild(warn);\n",
              "}\n",
              "$3Dmolpromise.then(function() {\n",
              "viewer_17376453089836738 = $3Dmol.createViewer(document.getElementById(\"3dmolviewer_17376453089836738\"),{backgroundColor:\"white\"});\n",
              "$3Dmol.download(\"pdb:4rhb\", viewer_17376453089836738, {}, function() {\n",
              "viewer_17376453089836738.zoomTo();\n",
              "\tviewer_17376453089836738.setStyle({\"line\": {\"color\": \"greenCarbon\"}});\n",
              "viewer_17376453089836738.render();\n",
              "})\n",
              "});\n",
              "</script>"
            ]
          },
          "metadata": {}
        },
        {
          "output_type": "execute_result",
          "data": {
            "text/plain": [
              "<py3Dmol.view at 0x7e17cd1078d0>"
            ]
          },
          "metadata": {},
          "execution_count": 5
        }
      ]
    }
  ]
}
